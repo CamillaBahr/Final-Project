{
 "cells": [
  {
   "cell_type": "code",
   "execution_count": null,
   "metadata": {},
   "outputs": [],
   "source": [
    "import pandas as pd\n",
    "import numpy as np"
   ]
  },
  {
   "cell_type": "code",
   "execution_count": null,
   "metadata": {},
   "outputs": [],
   "source": [
    "SN_Bee2017_Jan_March_to_load = \"Jan-March2017.csv\"\n",
    "\n",
    "# Read data File and store into Pandas Data Frames\n",
    "Jan_March2017= pd.read_csv(SN_Bee2017_Jan_March_to_load)\n",
    "\n",
    "# Combine the data into a single dataset\n",
    "#school_data_complete = pd.merge(student_data, school_data, how=\"left\", on=[\"school_name\", \"school_name\"])\n",
    "Jan_March2017.head()\n"
   ]
  },
  {
   "cell_type": "code",
   "execution_count": null,
   "metadata": {},
   "outputs": [],
   "source": [
    "Jan_March2017_df = Jan_March2017.drop(Jan_March2017.columns[[0,1,4]], axis=1) \n",
    "\n",
    "Jan_March2017_df.head()\n"
   ]
  },
  {
   "cell_type": "code",
   "execution_count": null,
   "metadata": {},
   "outputs": [],
   "source": [
    "Jan_March2017_Final= Jan_March2017_df.rename(columns={'No_of_colonies': 'Winter_2017\\nNo_of_colonies', \n",
    "                                                           'Max': 'Winter_2017\\nMax',\n",
    "                                 'Lost': 'Winter_2017\\nLost', 'Per_lost': 'Winter_2017\\nPer_lost',\n",
    "                                 'Added': 'Winter_2017\\nAdded', 'Renovated': 'Winter_2017\\nRenovated', \n",
    "                                 'Per_renovated': 'Winter_2017\\nPer_renovated'})\n",
    "\n",
    "Jan_March2017_Final.head()\n",
    "                                "
   ]
  },
  {
   "cell_type": "code",
   "execution_count": null,
   "metadata": {},
   "outputs": [],
   "source": [
    "Jan_March2017_Final.replace('-',np.NaN,inplace = True)\n",
    "Jan_March2017_Final.replace('(Z)',np.NaN,inplace = True)\n",
    "\n",
    "Jan_March2017_Final.fillna(0,inplace = True)\n",
    "\n",
    "Jan_March2017_Final.head()"
   ]
  },
  {
   "cell_type": "code",
   "execution_count": null,
   "metadata": {},
   "outputs": [],
   "source": [
    "SN_Bee2017_April_June_to_load = \"April-June2017.csv\"\n",
    "\n",
    "# Read data File and store into Pandas Data Frames\n",
    "April_June2017= pd.read_csv(SN_Bee2017_April_June_to_load)\n",
    "\n",
    "April_June2017.head() \n"
   ]
  },
  {
   "cell_type": "code",
   "execution_count": null,
   "metadata": {},
   "outputs": [],
   "source": [
    "April_June2017_df = April_June2017.drop(April_June2017.columns[[0, 1,4 ]], axis=1)\n",
    "\n",
    "April_June2017_df.head()\n"
   ]
  },
  {
   "cell_type": "code",
   "execution_count": null,
   "metadata": {},
   "outputs": [],
   "source": [
    "April_June2017_Final= April_June2017_df.rename(columns={'No_of_colonies': 'Spring_2017\\nNo_of_colonies', \n",
    "                                                           'Max': 'Spring_2017\\nMax',\n",
    "                                 'Lost': 'Spring_2017\\nLost', 'Per_lost': 'Spring_2017\\nPer_lost',\n",
    "                                 'Added': 'Spring_2017\\nAdded', 'Renovated': 'Spring_2017\\nRenovated', \n",
    "                                 'Per_renovated': 'Spring_2017\\nPer_renovated'})\n",
    "\n",
    "April_June2017_Final.head(10)\n",
    "                                "
   ]
  },
  {
   "cell_type": "code",
   "execution_count": null,
   "metadata": {},
   "outputs": [],
   "source": [
    "SN_Bee2017_July_Sep_to_load = \"July-Sep2017.csv\"\n",
    "\n",
    "# Read data File and store into Pandas Data Frames\n",
    "July_Sep2017 = pd.read_csv(SN_Bee2017_July_Sep_to_load)\n",
    "\n",
    "July_Sep2017.head()\n"
   ]
  },
  {
   "cell_type": "code",
   "execution_count": null,
   "metadata": {},
   "outputs": [],
   "source": [
    "July_Sep2017_df = July_Sep2017.drop(July_Sep2017.columns[[0,1,4]], axis=1)\n",
    "\n",
    "July_Sep2017_df.head()\n"
   ]
  },
  {
   "cell_type": "code",
   "execution_count": null,
   "metadata": {},
   "outputs": [],
   "source": [
    "July_Sep2017_Final= July_Sep2017_df.rename(columns={'No_of_colonies': 'Summer_2017\\nNo_of_colonies', \n",
    "                                                           'Max': 'Summer_2017\\nMax',\n",
    "                                 'Lost': 'Summer_2017\\nLost', 'Per_lost': 'Summer_2017\\nPer_lost',\n",
    "                                 'Added': 'Summer_2017\\nAdded', 'Renovated': 'Summer_2017\\nRenovated', \n",
    "                                 'Per_renovated': 'Summer_2017\\nPer_renovated'})\n",
    "\n",
    "July_Sep2017_Final.head(10)"
   ]
  },
  {
   "cell_type": "code",
   "execution_count": null,
   "metadata": {},
   "outputs": [],
   "source": [
    "SN_Bee2017_Oct_Dec_to_load = \"Oct-Dec2017.csv\"\n",
    "\n",
    "# Read data File and store into Pandas Data Frames\n",
    "Oct_Dec2017 = pd.read_csv(SN_Bee2017_Oct_Dec_to_load)\n",
    "\n",
    "Oct_Dec2017.head()\n"
   ]
  },
  {
   "cell_type": "code",
   "execution_count": null,
   "metadata": {},
   "outputs": [],
   "source": [
    "Oct_Dec2017_df = Oct_Dec2017.drop(Oct_Dec2017.columns[[0,1,4]], axis=1)\n",
    "\n",
    "Oct_Dec2017_df.head()\n"
   ]
  },
  {
   "cell_type": "code",
   "execution_count": null,
   "metadata": {},
   "outputs": [],
   "source": [
    "Oct_Dec2017_Final= Oct_Dec2017_df.rename(columns={'No_of_colonies': 'Fall_2017\\nNo_of_colonies', \n",
    "                                                           'Max': 'Fall_2017\\nMax',\n",
    "                                 'Lost': 'Fall_2017\\nLost', 'Per_lost': 'Fall_2017\\nPer_lost',\n",
    "                                 'Added': 'Fall_2017\\nAdded', 'Renovated': 'Fall_2017\\nRenovated', \n",
    "                                 'Per_renovated': 'Fall_2017\\nPer_renovated'})\n",
    "\n",
    "Oct_Dec2017_Final.head(10)"
   ]
  },
  {
   "cell_type": "code",
   "execution_count": null,
   "metadata": {},
   "outputs": [],
   "source": [
    "Oct_Dec2017_Final.replace('-',np.NaN,inplace = True)\n",
    "Oct_Dec2017_Final.replace('(Z)',np.NaN,inplace = True)\n",
    "\n",
    "Oct_Dec2017_Final.fillna(0,inplace = True)\n",
    "\n",
    "Oct_Dec2017_Final.head()"
   ]
  },
  {
   "cell_type": "code",
   "execution_count": null,
   "metadata": {},
   "outputs": [],
   "source": [
    "SN_Bee2018_Jan_March_to_load = \"Jan-March2018.csv\"\n",
    "\n",
    "# Read data File and store into Pandas Data Frames\n",
    "Jan_March2018 = pd.read_csv(SN_Bee2018_Jan_March_to_load)\n",
    "\n",
    "Jan_March2018.head()\n"
   ]
  },
  {
   "cell_type": "code",
   "execution_count": null,
   "metadata": {},
   "outputs": [],
   "source": [
    "Jan_March2018_df = Jan_March2018.drop(Jan_March2018.columns[[0,1,4]], axis=1)\n",
    "\n",
    "Jan_March2018_df.head()\n"
   ]
  },
  {
   "cell_type": "code",
   "execution_count": null,
   "metadata": {},
   "outputs": [],
   "source": [
    "Jan_March2018_Final= Jan_March2018_df.rename(columns={'No_of_colonies': 'Winter_2018\\nNo_of_colonies', \n",
    "                                                           'Max': 'Winter_2018\\nMax',\n",
    "                                 'Lost': 'Winter_2018\\nLost', 'Per_lost': 'Winter_2018\\nPer_lost',\n",
    "                                 'Added': 'Winter_2018\\nAdded', 'Renovated': 'Winter_2018\\nRenovated', \n",
    "                                 'Per_renovated': 'Winter_2018\\nPer_renovated'})\n",
    "\n",
    "Jan_March2018_Final.head()\n",
    "                          "
   ]
  },
  {
   "cell_type": "code",
   "execution_count": null,
   "metadata": {},
   "outputs": [],
   "source": [
    "Jan_March2018_Final.replace('-',np.NaN,inplace = True)\n",
    "Jan_March2018_Final.replace('(Z)',np.NaN,inplace = True)\n",
    "\n",
    "Jan_March2018_Final.fillna(0,inplace = True)\n",
    "\n",
    "Jan_March2018_Final.head()"
   ]
  },
  {
   "cell_type": "code",
   "execution_count": null,
   "metadata": {},
   "outputs": [],
   "source": [
    "SN_Bee2018_April_June_to_load = \"April-June2018.csv\"\n",
    "\n",
    "# Read data File and store into Pandas Data Frames\n",
    "April_June2018 = pd.read_csv(SN_Bee2018_April_June_to_load)\n",
    "\n",
    "April_June2018.head()\n"
   ]
  },
  {
   "cell_type": "code",
   "execution_count": null,
   "metadata": {},
   "outputs": [],
   "source": [
    "April_June2018_df = April_June2018.drop(April_June2018.columns[[0,1,4]], axis=1)\n",
    "\n",
    "April_June2018_df.head()\n"
   ]
  },
  {
   "cell_type": "code",
   "execution_count": null,
   "metadata": {},
   "outputs": [],
   "source": [
    "April_June2018_Final= April_June2018_df.rename(columns={'No_of_colonies': 'Spring_2018\\nNo_of_colonies', \n",
    "                                                           'Max': 'Spring_2018\\nMax',\n",
    "                                 'Lost': 'Spring_2018\\nLost', 'Per_lost': 'Spring_2018\\nPer_lost',\n",
    "                                 'Added': 'Spring_2018\\nAdded', 'Renovated': 'Spring_2018\\nRenovated', \n",
    "                                 'Per_renovated': 'Spring_2018\\nPer_renovated'})\n",
    "\n",
    "April_June2018_Final.head(10)\n",
    "                                "
   ]
  },
  {
   "cell_type": "code",
   "execution_count": null,
   "metadata": {},
   "outputs": [],
   "source": [
    "SN_Bee2017_HS_Jan_March_to_load = \"Jan-MarchHealthstress2017.csv\"\n",
    "\n",
    "# Read data File and store into Pandas Data Frames\n",
    "Jan_MarchHealthstress2017 = pd.read_csv(SN_Bee2017_HS_Jan_March_to_load)\n",
    "\n",
    "Jan_MarchHealthstress2017.head()\n"
   ]
  },
  {
   "cell_type": "code",
   "execution_count": null,
   "metadata": {},
   "outputs": [],
   "source": [
    "Jan_MarchHealthstress2017_df = Jan_MarchHealthstress2017.drop(Jan_MarchHealthstress2017.columns[[0, 1]], axis=1)\n",
    "\n",
    "Jan_MarchHealthstress2017_df.head()\n"
   ]
  },
  {
   "cell_type": "code",
   "execution_count": null,
   "metadata": {},
   "outputs": [],
   "source": [
    "Jan_March2017_HS_Final= Jan_MarchHealthstress2017_df.rename(columns={'Mites': 'Winter_2017\\nMites', \n",
    "                                                           'Parasites': 'Winter_2017\\nParasites',\n",
    "                                 'Diseases': 'Winter_2017\\nDiseases', 'Pesticides': 'Winter_2017\\nPesticides',\n",
    "                                 'Other': 'Winter_2017\\nOther', 'Unknown': 'Winter_2017\\nUnknown'})\n",
    "\n",
    "Jan_March2017_HS_Final.head()\n",
    "                               "
   ]
  },
  {
   "cell_type": "code",
   "execution_count": null,
   "metadata": {},
   "outputs": [],
   "source": [
    "Jan_March2017_HS_Final.replace('-',np.NaN,inplace = True)\n",
    "Jan_March2017_HS_Final.replace('(Z)',np.NaN,inplace = True)\n",
    "\n",
    "Jan_March2017_HS_Final.fillna(0,inplace = True)\n",
    "\n",
    "Jan_March2017_HS_Final.head()"
   ]
  },
  {
   "cell_type": "code",
   "execution_count": null,
   "metadata": {},
   "outputs": [],
   "source": [
    "SN_Bee2017_HS_April_June_to_load = \"April-JuneHealthstress2017.csv\"\n",
    "\n",
    "# Read data File and store into Pandas Data Frames\n",
    "April_JuneHealthstress2017= pd.read_csv(SN_Bee2017_HS_April_June_to_load)\n",
    "\n",
    "April_JuneHealthstress2017.head()\n"
   ]
  },
  {
   "cell_type": "code",
   "execution_count": null,
   "metadata": {},
   "outputs": [],
   "source": [
    "April_JuneHealthstress2017_df = April_JuneHealthstress2017.drop(April_JuneHealthstress2017.columns[[0, 1]], axis=1)\n",
    "\n",
    "April_JuneHealthstress2017_df.head()\n"
   ]
  },
  {
   "cell_type": "code",
   "execution_count": null,
   "metadata": {},
   "outputs": [],
   "source": [
    "April_June2017_HS_Final= April_JuneHealthstress2017_df.rename(columns={'Mites': 'Spring_2017\\nMites', \n",
    "                                                           'Parasites': 'Spring_2017\\nParasites',\n",
    "                                 'Diseases': 'Spring_2017\\nDiseases', 'Pesticides': 'Spring_2017\\nPesticides',\n",
    "                                 'Other': 'Spring_2017\\nOther', 'Unknown': 'Spring_2017\\nUnknown'})\n",
    "\n",
    "April_June2017_HS_Final.head()"
   ]
  },
  {
   "cell_type": "code",
   "execution_count": null,
   "metadata": {},
   "outputs": [],
   "source": [
    "April_June2017_HS_Final.replace('-',np.NaN,inplace = True)\n",
    "April_June2017_HS_Final.replace('(Z)',np.NaN,inplace = True)\n",
    "\n",
    "April_June2017_HS_Final.fillna(0,inplace = True)\n",
    "\n",
    "April_June2017_HS_Final.head()"
   ]
  },
  {
   "cell_type": "code",
   "execution_count": null,
   "metadata": {},
   "outputs": [],
   "source": [
    "SN_Bee2017_HS_July_Sep_to_load = \"July-SepHealthstress2017.csv\"\n",
    "\n",
    "# Read data File and store into Pandas Data Frames\n",
    "July_SepHealthstress2017= pd.read_csv(SN_Bee2017_HS_July_Sep_to_load)\n",
    "\n",
    "July_SepHealthstress2017.head()\n"
   ]
  },
  {
   "cell_type": "code",
   "execution_count": null,
   "metadata": {},
   "outputs": [],
   "source": [
    "July_SepHealthstress2017_df = July_SepHealthstress2017.drop(July_SepHealthstress2017.columns[[0, 1]], axis=1)\n",
    "\n",
    "July_SepHealthstress2017_df.head()\n"
   ]
  },
  {
   "cell_type": "code",
   "execution_count": null,
   "metadata": {},
   "outputs": [],
   "source": [
    "July_Sep2017_HS_Final= July_SepHealthstress2017_df.rename(columns={'Mites': 'Summer_2017\\nMites', \n",
    "                                                           'Parasites': 'Summer_2017\\nParasites',\n",
    "                                 'Diseases': 'Summer_2017\\nDiseases', 'Pesticides': 'Summer_2017\\nPesticides',\n",
    "                                 'Other': 'Summer_2017\\nOther', 'Unknown': 'Summer_2017\\nUnknown'})\n",
    "\n",
    "July_Sep2017_HS_Final.head()"
   ]
  },
  {
   "cell_type": "code",
   "execution_count": null,
   "metadata": {},
   "outputs": [],
   "source": [
    "July_Sep2017_HS_Final.replace('-',np.NaN,inplace = True)\n",
    "July_Sep2017_HS_Final.replace('(Z)',np.NaN,inplace = True)\n",
    "\n",
    "July_Sep2017_HS_Final.fillna(0,inplace = True)\n",
    "\n",
    "July_Sep2017_HS_Final.head()"
   ]
  },
  {
   "cell_type": "code",
   "execution_count": null,
   "metadata": {},
   "outputs": [],
   "source": [
    "SN_Bee2017_HS_Oct_Dec_to_load = \"Oct-DecHealthstress2017.csv\"\n",
    "\n",
    "# Read data File and store into Pandas Data Frames\n",
    "Oct_DecHealthstress2017= pd.read_csv(SN_Bee2017_HS_Oct_Dec_to_load)\n",
    "\n",
    "Oct_DecHealthstress2017.head()\n"
   ]
  },
  {
   "cell_type": "code",
   "execution_count": null,
   "metadata": {},
   "outputs": [],
   "source": [
    "Oct_DecHealthstress2017_df = Oct_DecHealthstress2017.drop(Oct_DecHealthstress2017.columns[[0, 1]], axis=1)\n",
    "\n",
    "Oct_DecHealthstress2017_df.head()\n"
   ]
  },
  {
   "cell_type": "code",
   "execution_count": null,
   "metadata": {},
   "outputs": [],
   "source": [
    "Oct_Dec2017_HS_Final= Oct_DecHealthstress2017_df.rename(columns={'Mites': 'Fall_2017\\nMites', \n",
    "                                                           'Parasites': 'Fall_2017\\nParasites',\n",
    "                                 'Diseases': 'Fall_2017\\nDiseases', 'Pesticides': 'Fall_2017\\nPesticides',\n",
    "                                 'Other': 'Fall_2017\\nOther', 'Unknown': 'Fall_2017\\nUnknown'})\n",
    "\n",
    "Oct_Dec2017_HS_Final.head()"
   ]
  },
  {
   "cell_type": "code",
   "execution_count": null,
   "metadata": {},
   "outputs": [],
   "source": [
    "Oct_Dec2017_HS_Final.replace('-',np.NaN,inplace = True)\n",
    "Oct_Dec2017_HS_Final.replace('(Z)',np.NaN,inplace = True)\n",
    "\n",
    "Oct_Dec2017_HS_Final.fillna(0,inplace = True)\n",
    "\n",
    "Oct_Dec2017_HS_Final.head()"
   ]
  },
  {
   "cell_type": "code",
   "execution_count": null,
   "metadata": {},
   "outputs": [],
   "source": [
    "SN_Bee2018_HS_Jan_March_to_load = \"Jan-MarchHealthstress2018.csv\"\n",
    "\n",
    "# Read data File and store into Pandas Data Frames\n",
    "Jan_MarchHealthstress2018= pd.read_csv(SN_Bee2018_HS_Jan_March_to_load)\n",
    "\n",
    "Jan_MarchHealthstress2018.head()\n"
   ]
  },
  {
   "cell_type": "code",
   "execution_count": null,
   "metadata": {},
   "outputs": [],
   "source": [
    "Jan_MarchHealthstress2018_df = Jan_MarchHealthstress2018.drop(Jan_MarchHealthstress2018.columns[[0, 1]], axis=1) \n",
    "\n",
    "Jan_MarchHealthstress2018_df.head()\n"
   ]
  },
  {
   "cell_type": "code",
   "execution_count": null,
   "metadata": {},
   "outputs": [],
   "source": [
    "Jan_March2018_HS_Final= Jan_MarchHealthstress2018_df.rename(columns={'Mites': 'Winter_2018\\nMites', \n",
    "                                                           'Parasites': 'Winter_2018\\nParasites',\n",
    "                                 'Diseases': 'Winter_2018\\nDiseases', 'Pesticides': 'Winter_2018\\nPesticides',\n",
    "                                 'Other': 'Winter_2018\\nOther', 'Unknown': 'Winter_2018\\nUnknown'})\n",
    "\n",
    "Jan_March2018_HS_Final.head()\n",
    "                               "
   ]
  },
  {
   "cell_type": "code",
   "execution_count": null,
   "metadata": {},
   "outputs": [],
   "source": [
    "Jan_March2018_HS_Final.replace('-',np.NaN,inplace = True)\n",
    "Jan_March2018_HS_Final.replace('(Z)',np.NaN,inplace = True)\n",
    "\n",
    "Jan_March2018_HS_Final.fillna(0,inplace = True)\n",
    "\n",
    "Jan_March2018_HS_Final.head()"
   ]
  },
  {
   "cell_type": "code",
   "execution_count": null,
   "metadata": {},
   "outputs": [],
   "source": [
    "SN_Bee2018_HS_Aoril_June_to_load = \"April-JuneHealthstress2018.csv\"\n",
    "\n",
    "# Read data File and store into Pandas Data Frames\n",
    "April_JuneHealthstress2018= pd.read_csv(SN_Bee2018_HS_Aoril_June_to_load )\n",
    "\n",
    "April_JuneHealthstress2018.head()\n"
   ]
  },
  {
   "cell_type": "code",
   "execution_count": null,
   "metadata": {},
   "outputs": [],
   "source": [
    "April_JuneHealthstress2018_df = April_JuneHealthstress2018.drop(April_JuneHealthstress2018.columns[[0, 1]], axis=1) \n",
    "\n",
    "April_JuneHealthstress2018_df.head()\n"
   ]
  },
  {
   "cell_type": "code",
   "execution_count": null,
   "metadata": {},
   "outputs": [],
   "source": [
    "April_June2018_HS_Final= April_JuneHealthstress2018_df.rename(columns={'Mites': 'Spring_2018\\nMites', \n",
    "                                                           'Parasites': 'Spring_2018\\nParasites',\n",
    "                                 'Diseases': 'Spring_2018\\nDiseases', 'Pesticides': 'Spring_2018\\nPesticides',\n",
    "                                 'Other': 'Spring_2018\\nOther', 'Unknown': 'Spring_2018\\nUnknown'})\n",
    "\n",
    "April_June2018_HS_Final.head()"
   ]
  },
  {
   "cell_type": "code",
   "execution_count": null,
   "metadata": {},
   "outputs": [],
   "source": [
    "April_June2018_HS_Final.replace('-',np.NaN,inplace = True)\n",
    "April_June2018_HS_Final.replace('(Z)',np.NaN,inplace = True)\n",
    "\n",
    "April_June2018_HS_Final.fillna(0,inplace = True)\n",
    "\n",
    "April_June2018_HS_Final.head()"
   ]
  },
  {
   "cell_type": "code",
   "execution_count": null,
   "metadata": {},
   "outputs": [],
   "source": [
    "Final_2017_df = Jan_March2017_Final.merge(April_June2017_Final,on='State').merge(July_Sep2017_Final,on='State').merge(Oct_Dec2017_Final,on='State').drop_duplicates()\n",
    "                                                                                                    \n",
    "Final_2017_df.head()\n",
    "\n",
    "                                                                                                      "
   ]
  },
  {
   "cell_type": "code",
   "execution_count": null,
   "metadata": {},
   "outputs": [],
   "source": [
    "Final_2017_df.to_csv(\"Final_colony_2017.csv\", index = False, sep=',', encoding='utf-8')"
   ]
  },
  {
   "cell_type": "code",
   "execution_count": null,
   "metadata": {},
   "outputs": [],
   "source": [
    "Final_2018_df = Jan_March2018_Final.merge(April_June2018_Final,on='State').drop_duplicates()\n",
    "                                                                                                    \n",
    "Final_2018_df.head()\n"
   ]
  },
  {
   "cell_type": "code",
   "execution_count": null,
   "metadata": {},
   "outputs": [],
   "source": [
    "Final_2018_df.to_csv(\"Final_colony_2018.csv\", index = False, sep=',', encoding='utf-8')"
   ]
  },
  {
   "cell_type": "code",
   "execution_count": null,
   "metadata": {},
   "outputs": [],
   "source": [
    "Final_2017_HS_df = Jan_March2017_HS_Final.merge(April_June2017_HS_Final,on='State').merge(July_Sep2017_HS_Final,on='State').merge(Oct_Dec2017_HS_Final,on='State').drop_duplicates()\n",
    "                                                                              \n",
    "Final_2017_HS_df.head()\n"
   ]
  },
  {
   "cell_type": "code",
   "execution_count": null,
   "metadata": {},
   "outputs": [],
   "source": [
    "Final_2017_HS_df.to_csv(\"Final_Healthstress_2017.csv\", index = False, sep=',', encoding='utf-8')"
   ]
  },
  {
   "cell_type": "code",
   "execution_count": null,
   "metadata": {},
   "outputs": [],
   "source": [
    "Final_2018_HS_df = Jan_March2018_HS_Final.merge(April_June2018_HS_Final,on='State').drop_duplicates()\n",
    "                                                                              \n",
    "Final_2018_HS_df.head()\n"
   ]
  },
  {
   "cell_type": "code",
   "execution_count": null,
   "metadata": {},
   "outputs": [],
   "source": [
    "Final_2018_HS_df.to_csv(\"Final_Healthstress_2018.csv\", index = False, sep=',', encoding='utf-8')"
   ]
  },
  {
   "cell_type": "code",
   "execution_count": null,
   "metadata": {},
   "outputs": [],
   "source": [
    "# Combine the data into a single dataset\n",
    "#Jan_March_2017_complete = pd.merge(Jan_March2017_Final,Jan_March2017_HS_Final, how=\"left\", on=[\"State\",\"State\"])\n",
    "#Jan_March_2017_data_complete.rename(columns={'No_of_colonies': 'Jan_March_No_of_colonies', 'oldName2': 'newName2'}, inplace=True)\n",
    "#Jan_March_2017_complete.head()\n"
   ]
  },
  {
   "cell_type": "code",
   "execution_count": null,
   "metadata": {},
   "outputs": [],
   "source": []
  }
 ],
 "metadata": {
  "kernelspec": {
   "display_name": "Python 3",
   "language": "python",
   "name": "python3"
  },
  "language_info": {
   "codemirror_mode": {
    "name": "ipython",
    "version": 3
   },
   "file_extension": ".py",
   "mimetype": "text/x-python",
   "name": "python",
   "nbconvert_exporter": "python",
   "pygments_lexer": "ipython3",
   "version": "3.7.2"
  }
 },
 "nbformat": 4,
 "nbformat_minor": 2
}
