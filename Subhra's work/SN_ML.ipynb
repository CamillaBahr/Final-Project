{
 "cells": [
  {
   "cell_type": "code",
   "execution_count": 28,
   "metadata": {},
   "outputs": [],
   "source": [
    "%matplotlib inline\n",
    "import matplotlib.pyplot as plt\n",
    "import numpy as np\n",
    "import pandas as pd"
   ]
  },
  {
   "cell_type": "code",
   "execution_count": 30,
   "metadata": {},
   "outputs": [
    {
     "data": {
      "text/html": [
       "<div>\n",
       "<style scoped>\n",
       "    .dataframe tbody tr th:only-of-type {\n",
       "        vertical-align: middle;\n",
       "    }\n",
       "\n",
       "    .dataframe tbody tr th {\n",
       "        vertical-align: top;\n",
       "    }\n",
       "\n",
       "    .dataframe thead th {\n",
       "        text-align: right;\n",
       "    }\n",
       "</style>\n",
       "<table border=\"1\" class=\"dataframe\">\n",
       "  <thead>\n",
       "    <tr style=\"text-align: right;\">\n",
       "      <th></th>\n",
       "      <th>State</th>\n",
       "      <th>Winter_2017\n",
       "No_of_colonies</th>\n",
       "      <th>Winter_2017\n",
       "Lost</th>\n",
       "      <th>Winter_2017\n",
       "Per_lost</th>\n",
       "      <th>Winter_2017\n",
       "Added</th>\n",
       "      <th>Winter_2017\n",
       "Renovated</th>\n",
       "      <th>Winter_2017\n",
       "Per_renovated</th>\n",
       "      <th>Spring_2017\n",
       "No_of_colonies</th>\n",
       "      <th>Spring_2017\n",
       "Lost</th>\n",
       "      <th>Spring_2017\n",
       "Per_lost</th>\n",
       "      <th>...</th>\n",
       "      <th>Summer_2017\n",
       "Per_lost</th>\n",
       "      <th>Summer_2017\n",
       "Added</th>\n",
       "      <th>Summer_2017\n",
       "Renovated</th>\n",
       "      <th>Summer_2017\n",
       "Per_renovated</th>\n",
       "      <th>Fall_2017\n",
       "No_of_colonies</th>\n",
       "      <th>Fall_2017\n",
       "Lost</th>\n",
       "      <th>Fall_2017\n",
       "Per_lost</th>\n",
       "      <th>Fall_2017\n",
       "Added</th>\n",
       "      <th>Fall_2017\n",
       "Renovated</th>\n",
       "      <th>Fall_2017\n",
       "Per_renovated</th>\n",
       "    </tr>\n",
       "  </thead>\n",
       "  <tbody>\n",
       "    <tr>\n",
       "      <th>0</th>\n",
       "      <td>Alabama</td>\n",
       "      <td>7000</td>\n",
       "      <td>1600</td>\n",
       "      <td>23</td>\n",
       "      <td>570</td>\n",
       "      <td>740</td>\n",
       "      <td>11</td>\n",
       "      <td>6500</td>\n",
       "      <td>440</td>\n",
       "      <td>7</td>\n",
       "      <td>...</td>\n",
       "      <td>9</td>\n",
       "      <td>690</td>\n",
       "      <td>530</td>\n",
       "      <td>6</td>\n",
       "      <td>7500</td>\n",
       "      <td>990</td>\n",
       "      <td>13</td>\n",
       "      <td>550</td>\n",
       "      <td>500</td>\n",
       "      <td>7</td>\n",
       "    </tr>\n",
       "    <tr>\n",
       "      <th>1</th>\n",
       "      <td>Arizona</td>\n",
       "      <td>31000</td>\n",
       "      <td>6000</td>\n",
       "      <td>19</td>\n",
       "      <td>2900</td>\n",
       "      <td>0</td>\n",
       "      <td>0</td>\n",
       "      <td>22000</td>\n",
       "      <td>2600</td>\n",
       "      <td>12</td>\n",
       "      <td>...</td>\n",
       "      <td>16</td>\n",
       "      <td>5000</td>\n",
       "      <td>3200</td>\n",
       "      <td>12</td>\n",
       "      <td>27000</td>\n",
       "      <td>6500</td>\n",
       "      <td>22</td>\n",
       "      <td>1300</td>\n",
       "      <td>1100</td>\n",
       "      <td>4</td>\n",
       "    </tr>\n",
       "    <tr>\n",
       "      <th>2</th>\n",
       "      <td>Arkansas</td>\n",
       "      <td>18000</td>\n",
       "      <td>3500</td>\n",
       "      <td>18</td>\n",
       "      <td>430</td>\n",
       "      <td>230</td>\n",
       "      <td>1</td>\n",
       "      <td>17000</td>\n",
       "      <td>1900</td>\n",
       "      <td>8</td>\n",
       "      <td>...</td>\n",
       "      <td>21</td>\n",
       "      <td>4400</td>\n",
       "      <td>410</td>\n",
       "      <td>1</td>\n",
       "      <td>25000</td>\n",
       "      <td>7500</td>\n",
       "      <td>30</td>\n",
       "      <td>2500</td>\n",
       "      <td>440</td>\n",
       "      <td>2</td>\n",
       "    </tr>\n",
       "    <tr>\n",
       "      <th>3</th>\n",
       "      <td>California</td>\n",
       "      <td>1170000</td>\n",
       "      <td>195000</td>\n",
       "      <td>13</td>\n",
       "      <td>137000</td>\n",
       "      <td>93000</td>\n",
       "      <td>6</td>\n",
       "      <td>980000</td>\n",
       "      <td>90000</td>\n",
       "      <td>9</td>\n",
       "      <td>...</td>\n",
       "      <td>10</td>\n",
       "      <td>73000</td>\n",
       "      <td>74000</td>\n",
       "      <td>11</td>\n",
       "      <td>680000</td>\n",
       "      <td>155000</td>\n",
       "      <td>13</td>\n",
       "      <td>90000</td>\n",
       "      <td>104000</td>\n",
       "      <td>9</td>\n",
       "    </tr>\n",
       "    <tr>\n",
       "      <th>4</th>\n",
       "      <td>Colorado</td>\n",
       "      <td>9500</td>\n",
       "      <td>1100</td>\n",
       "      <td>5</td>\n",
       "      <td>100</td>\n",
       "      <td>0</td>\n",
       "      <td>0</td>\n",
       "      <td>16500</td>\n",
       "      <td>4500</td>\n",
       "      <td>15</td>\n",
       "      <td>...</td>\n",
       "      <td>10</td>\n",
       "      <td>2900</td>\n",
       "      <td>6410</td>\n",
       "      <td>15</td>\n",
       "      <td>34000</td>\n",
       "      <td>7000</td>\n",
       "      <td>21</td>\n",
       "      <td>1500</td>\n",
       "      <td>4000</td>\n",
       "      <td>12</td>\n",
       "    </tr>\n",
       "  </tbody>\n",
       "</table>\n",
       "<p>5 rows × 25 columns</p>\n",
       "</div>"
      ],
      "text/plain": [
       "        State  Winter_2017\\nNo_of_colonies  Winter_2017\\nLost  \\\n",
       "0     Alabama                         7000               1600   \n",
       "1     Arizona                        31000               6000   \n",
       "2    Arkansas                        18000               3500   \n",
       "3  California                      1170000             195000   \n",
       "4    Colorado                         9500               1100   \n",
       "\n",
       "   Winter_2017\\nPer_lost  Winter_2017\\nAdded  Winter_2017\\nRenovated  \\\n",
       "0                     23                 570                     740   \n",
       "1                     19                2900                       0   \n",
       "2                     18                 430                     230   \n",
       "3                     13              137000                   93000   \n",
       "4                      5                 100                       0   \n",
       "\n",
       "   Winter_2017\\nPer_renovated  Spring_2017\\nNo_of_colonies  Spring_2017\\nLost  \\\n",
       "0                          11                         6500                440   \n",
       "1                           0                        22000               2600   \n",
       "2                           1                        17000               1900   \n",
       "3                           6                       980000              90000   \n",
       "4                           0                        16500               4500   \n",
       "\n",
       "   Spring_2017\\nPer_lost            ...             Summer_2017\\nPer_lost  \\\n",
       "0                      7            ...                                 9   \n",
       "1                     12            ...                                16   \n",
       "2                      8            ...                                21   \n",
       "3                      9            ...                                10   \n",
       "4                     15            ...                                10   \n",
       "\n",
       "   Summer_2017\\nAdded  Summer_2017\\nRenovated  Summer_2017\\nPer_renovated  \\\n",
       "0                 690                     530                           6   \n",
       "1                5000                    3200                          12   \n",
       "2                4400                     410                           1   \n",
       "3               73000                   74000                          11   \n",
       "4                2900                    6410                          15   \n",
       "\n",
       "   Fall_2017\\nNo_of_colonies  Fall_2017\\nLost  Fall_2017\\nPer_lost  \\\n",
       "0                       7500              990                   13   \n",
       "1                      27000             6500                   22   \n",
       "2                      25000             7500                   30   \n",
       "3                     680000           155000                   13   \n",
       "4                      34000             7000                   21   \n",
       "\n",
       "   Fall_2017\\nAdded Fall_2017\\nRenovated  Fall_2017\\nPer_renovated  \n",
       "0               550                  500                         7  \n",
       "1              1300                 1100                         4  \n",
       "2              2500                  440                         2  \n",
       "3             90000               104000                         9  \n",
       "4              1500                 4000                        12  \n",
       "\n",
       "[5 rows x 25 columns]"
      ]
     },
     "execution_count": 30,
     "metadata": {},
     "output_type": "execute_result"
    }
   ],
   "source": [
    "Bees = pd.read_csv('Final_colony_2017.csv')\n",
    "Bees.head()\n"
   ]
  },
  {
   "cell_type": "code",
   "execution_count": 31,
   "metadata": {},
   "outputs": [
    {
     "data": {
      "text/plain": [
       "Index(['State', 'Winter_2017\\nNo_of_colonies', 'Winter_2017\\nLost',\n",
       "       'Winter_2017\\nPer_lost', 'Winter_2017\\nAdded', 'Winter_2017\\nRenovated',\n",
       "       'Winter_2017\\nPer_renovated', 'Spring_2017\\nNo_of_colonies',\n",
       "       'Spring_2017\\nLost', 'Spring_2017\\nPer_lost', 'Spring_2017\\nAdded',\n",
       "       'Spring_2017\\nRenovated', 'Spring_2017\\nPer_renovated',\n",
       "       'Summer_2017\\nNo_of_colonies', 'Summer_2017\\nLost',\n",
       "       'Summer_2017\\nPer_lost', 'Summer_2017\\nAdded', 'Summer_2017\\nRenovated',\n",
       "       'Summer_2017\\nPer_renovated', 'Fall_2017\\nNo_of_colonies',\n",
       "       'Fall_2017\\nLost', 'Fall_2017\\nPer_lost', 'Fall_2017\\nAdded',\n",
       "       'Fall_2017\\nRenovated', 'Fall_2017\\nPer_renovated'],\n",
       "      dtype='object')"
      ]
     },
     "execution_count": 31,
     "metadata": {},
     "output_type": "execute_result"
    }
   ],
   "source": [
    "Bees.columns\n"
   ]
  },
  {
   "cell_type": "code",
   "execution_count": 36,
   "metadata": {},
   "outputs": [
    {
     "name": "stdout",
     "output_type": "stream",
     "text": [
      "Shape:  (45, 1) (45, 1)\n"
     ]
    }
   ],
   "source": [
    "# Assign the data to X and y\n",
    "# Note: Sklearn requires a two-dimensional array of values\n",
    "# so we use reshape to create this\n",
    "\n",
    "X = Bees[\"Winter_2017\\nLost\"].values.reshape(-1, 1)\n",
    "y = Bees[\"\"].values.reshape(-1, 1)\n",
    "\n",
    "print(\"Shape: \", X.shape, y.shape)"
   ]
  },
  {
   "cell_type": "code",
   "execution_count": 37,
   "metadata": {},
   "outputs": [
    {
     "data": {
      "text/plain": [
       "Text(0, 0.5, 'Winter_2017 Renovated')"
      ]
     },
     "execution_count": 37,
     "metadata": {},
     "output_type": "execute_result"
    },
    {
     "data": {
      "image/png": "[encoded data removed]",
      "text/plain": [
       "<Figure size 432x288 with 1 Axes>"
      ]
     },
     "metadata": {
      "needs_background": "light"
     },
     "output_type": "display_data"
    }
   ],
   "source": [
    "# Plot the data to see if a linear trend exists\n",
    "\n",
    "### BEGIN SOLUTION\n",
    "plt.scatter(X, y)\n",
    "plt.xlabel(\"Winter_2017 lost\")\n",
    "plt.ylabel(\"Winter_2017 Renovated\")\n",
    "### END SOLUTION"
   ]
  },
  {
   "cell_type": "code",
   "execution_count": 38,
   "metadata": {},
   "outputs": [],
   "source": [
    "# Use sklearn's `train_test_split` to split the data into training and testing\n",
    "\n",
    "from sklearn.model_selection import train_test_split\n",
    "\n",
    "### BEGIN SOLUTION\n",
    "\n",
    "X_train, X_test, y_train, y_test = train_test_split(X, y, random_state=42)\n",
    "\n",
    "### END SOLUTION"
   ]
  },
  {
   "cell_type": "code",
   "execution_count": 39,
   "metadata": {},
   "outputs": [],
   "source": [
    "# Create the model\n",
    "\n",
    "### BEGIN SOLUTION\n",
    "\n",
    "from sklearn.linear_model import LinearRegression\n",
    "\n",
    "model = LinearRegression()\n",
    "\n",
    "### END SOLUTION"
   ]
  },
  {
   "cell_type": "code",
   "execution_count": 40,
   "metadata": {},
   "outputs": [
    {
     "data": {
      "text/plain": [
       "LinearRegression(copy_X=True, fit_intercept=True, n_jobs=None,\n",
       "         normalize=False)"
      ]
     },
     "execution_count": 40,
     "metadata": {},
     "output_type": "execute_result"
    }
   ],
   "source": [
    "# Fit the model to the training data. \n",
    "\n",
    "### BEGIN SOLUTION\n",
    "\n",
    "model.fit(X_train, y_train)\n",
    "\n",
    "### END SOLUTION"
   ]
  },
  {
   "cell_type": "code",
   "execution_count": 1,
   "metadata": {},
   "outputs": [],
   "source": [
    "from sklearn.datasets import make_regression\n",
    "from sklearn.linear_model import LinearRegression\n",
    "\n",
    "# Generate some data\n",
    "X, y = make_regression(n_samples=20, n_features=1, random_state=0, noise=4, bias=100.0)\n",
    "\n",
    "# Create a linear model\n",
    "model = LinearRegression()\n",
    "\n",
    "# Fit (Train) our model to the data\n",
    "model.fit(X, y)"
   ]
  },
  {
   "cell_type": "code",
   "execution_count": 41,
   "metadata": {},
   "outputs": [
    {
     "name": "stdout",
     "output_type": "stream",
     "text": [
      "Mean Squared Error (MSE): 2502375384.200966\n",
      "R-squared (R2 ): -2.5539895904948673\n"
     ]
    }
   ],
   "source": [
    "# Calculate the mean_squared_error and the r-squared value\n",
    "# for the testing data\n",
    "\n",
    "from sklearn.metrics import mean_squared_error, r2_score\n",
    "\n",
    "### BEGIN SOLUTION\n",
    "\n",
    "# Use our model to make predictions\n",
    "predicted = model.predict(X_test)\n",
    "\n",
    "# Score the predictions with mse and r2\n",
    "mse = mean_squared_error(y_test, predicted)\n",
    "r2 = r2_score(y_test, predicted)\n",
    "\n",
    "print(f\"Mean Squared Error (MSE): {mse}\")\n",
    "print(f\"R-squared (R2 ): {r2}\")\n",
    "\n",
    "### END SOLUTION"
   ]
  },
  {
   "cell_type": "code",
   "execution_count": 42,
   "metadata": {},
   "outputs": [
    {
     "data": {
      "text/plain": [
       "-2.5539895904948673"
      ]
     },
     "execution_count": 42,
     "metadata": {},
     "output_type": "execute_result"
    }
   ],
   "source": [
    "# Call the `score` method on the model to show the r2 score\n",
    "\n",
    "### BEGIN SOLUTION\n",
    "model.score(X_test, y_test)\n",
    "### END SOLUTION"
   ]
  },
  {
   "cell_type": "code",
   "execution_count": null,
   "metadata": {},
   "outputs": [],
   "source": []
  }
 ],
 "metadata": {
  "kernelspec": {
   "display_name": "Python 3",
   "language": "python",
   "name": "python3"
  },
  "language_info": {
   "codemirror_mode": {
    "name": "ipython",
    "version": 3
   },
   "file_extension": ".py",
   "mimetype": "text/x-python",
   "name": "python",
   "nbconvert_exporter": "python",
   "pygments_lexer": "ipython3",
   "version": "3.7.2"
  }
 },
 "nbformat": 4,
 "nbformat_minor": 2
}
