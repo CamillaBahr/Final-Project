{
 "cells": [
  {
   "cell_type": "code",
   "execution_count": 21,
   "metadata": {},
   "outputs": [],
   "source": [
    "%matplotlib inline\n",
    "import matplotlib.pyplot as plt\n",
    "import numpy as np\n",
    "import pandas as pd"
   ]
  },
  {
   "cell_type": "code",
   "execution_count": 22,
   "metadata": {},
   "outputs": [
    {
     "data": {
      "text/html": [
       "<div>\n",
       "<style scoped>\n",
       "    .dataframe tbody tr th:only-of-type {\n",
       "        vertical-align: middle;\n",
       "    }\n",
       "\n",
       "    .dataframe tbody tr th {\n",
       "        vertical-align: top;\n",
       "    }\n",
       "\n",
       "    .dataframe thead th {\n",
       "        text-align: right;\n",
       "    }\n",
       "</style>\n",
       "<table border=\"1\" class=\"dataframe\">\n",
       "  <thead>\n",
       "    <tr style=\"text-align: right;\">\n",
       "      <th></th>\n",
       "      <th>Unnamed: 0</th>\n",
       "      <th>State</th>\n",
       "      <th>Winter_2015\r",
       "\r\n",
       "Per_lost</th>\n",
       "      <th>Spring_2015\r",
       "\r\n",
       "Per_lost</th>\n",
       "      <th>Summer_2015\r",
       "\r\n",
       "Per_lost</th>\n",
       "      <th>Fall_2015\r",
       "\r\n",
       "Per_lost</th>\n",
       "      <th>Winter_2016\r\n",
       "Per_lost</th>\n",
       "      <th>Spring_2016\r\n",
       "Per_lost</th>\n",
       "      <th>Summer_2016\r\n",
       "Per_lost</th>\n",
       "      <th>Fall_2016\r\n",
       "Per_lost</th>\n",
       "      <th>Winter_2017\r\n",
       "Per_lost</th>\n",
       "      <th>Spring_2017\r\n",
       "Per_lost_x</th>\n",
       "      <th>Summer_2017\r\n",
       "Per_lost</th>\n",
       "      <th>Fall_2017\r\n",
       "Per_lost</th>\n",
       "      <th>Winter_2018\r\n",
       "Per_lost</th>\n",
       "      <th>Spring_2018\n",
       "Per_lost_y</th>\n",
       "    </tr>\n",
       "  </thead>\n",
       "  <tbody>\n",
       "    <tr>\n",
       "      <th>0</th>\n",
       "      <td>0</td>\n",
       "      <td>Alabama</td>\n",
       "      <td>26</td>\n",
       "      <td>12</td>\n",
       "      <td>16</td>\n",
       "      <td>8</td>\n",
       "      <td>23</td>\n",
       "      <td>12</td>\n",
       "      <td>15</td>\n",
       "      <td>9</td>\n",
       "      <td>23</td>\n",
       "      <td>7</td>\n",
       "      <td>9</td>\n",
       "      <td>13</td>\n",
       "      <td>11</td>\n",
       "      <td>7</td>\n",
       "    </tr>\n",
       "    <tr>\n",
       "      <th>1</th>\n",
       "      <td>1</td>\n",
       "      <td>Arizona</td>\n",
       "      <td>13</td>\n",
       "      <td>17</td>\n",
       "      <td>15</td>\n",
       "      <td>31</td>\n",
       "      <td>16</td>\n",
       "      <td>16</td>\n",
       "      <td>19</td>\n",
       "      <td>21</td>\n",
       "      <td>19</td>\n",
       "      <td>12</td>\n",
       "      <td>16</td>\n",
       "      <td>22</td>\n",
       "      <td>23</td>\n",
       "      <td>12</td>\n",
       "    </tr>\n",
       "    <tr>\n",
       "      <th>2</th>\n",
       "      <td>2</td>\n",
       "      <td>Arkansas</td>\n",
       "      <td>11</td>\n",
       "      <td>14</td>\n",
       "      <td>30</td>\n",
       "      <td>9</td>\n",
       "      <td>19</td>\n",
       "      <td>14</td>\n",
       "      <td>5</td>\n",
       "      <td>9</td>\n",
       "      <td>18</td>\n",
       "      <td>8</td>\n",
       "      <td>21</td>\n",
       "      <td>30</td>\n",
       "      <td>34</td>\n",
       "      <td>8</td>\n",
       "    </tr>\n",
       "    <tr>\n",
       "      <th>3</th>\n",
       "      <td>3</td>\n",
       "      <td>California</td>\n",
       "      <td>15</td>\n",
       "      <td>10</td>\n",
       "      <td>10</td>\n",
       "      <td>12</td>\n",
       "      <td>14</td>\n",
       "      <td>9</td>\n",
       "      <td>10</td>\n",
       "      <td>15</td>\n",
       "      <td>13</td>\n",
       "      <td>9</td>\n",
       "      <td>10</td>\n",
       "      <td>13</td>\n",
       "      <td>14</td>\n",
       "      <td>9</td>\n",
       "    </tr>\n",
       "    <tr>\n",
       "      <th>4</th>\n",
       "      <td>4</td>\n",
       "      <td>Colorado</td>\n",
       "      <td>12</td>\n",
       "      <td>8</td>\n",
       "      <td>15</td>\n",
       "      <td>10</td>\n",
       "      <td>9</td>\n",
       "      <td>6</td>\n",
       "      <td>18</td>\n",
       "      <td>15</td>\n",
       "      <td>5</td>\n",
       "      <td>15</td>\n",
       "      <td>10</td>\n",
       "      <td>21</td>\n",
       "      <td>23</td>\n",
       "      <td>15</td>\n",
       "    </tr>\n",
       "  </tbody>\n",
       "</table>\n",
       "</div>"
      ],
      "text/plain": [
       "   Unnamed: 0       State  Winter_2015\\r\\r\\nPer_lost  \\\n",
       "0           0     Alabama                         26   \n",
       "1           1     Arizona                         13   \n",
       "2           2    Arkansas                         11   \n",
       "3           3  California                         15   \n",
       "4           4    Colorado                         12   \n",
       "\n",
       "   Spring_2015\\r\\r\\nPer_lost  Summer_2015\\r\\r\\nPer_lost  \\\n",
       "0                         12                         16   \n",
       "1                         17                         15   \n",
       "2                         14                         30   \n",
       "3                         10                         10   \n",
       "4                          8                         15   \n",
       "\n",
       "   Fall_2015\\r\\r\\nPer_lost  Winter_2016\\r\\nPer_lost Spring_2016\\r\\nPer_lost  \\\n",
       "0                        8                       23                      12   \n",
       "1                       31                       16                      16   \n",
       "2                        9                       19                      14   \n",
       "3                       12                       14                       9   \n",
       "4                       10                        9                       6   \n",
       "\n",
       "   Summer_2016\\r\\nPer_lost  Fall_2016\\r\\nPer_lost  Winter_2017\\r\\nPer_lost  \\\n",
       "0                       15                      9                       23   \n",
       "1                       19                     21                       19   \n",
       "2                        5                      9                       18   \n",
       "3                       10                     15                       13   \n",
       "4                       18                     15                        5   \n",
       "\n",
       "   Spring_2017\\r\\nPer_lost_x  Summer_2017\\r\\nPer_lost  Fall_2017\\r\\nPer_lost  \\\n",
       "0                          7                        9                     13   \n",
       "1                         12                       16                     22   \n",
       "2                          8                       21                     30   \n",
       "3                          9                       10                     13   \n",
       "4                         15                       10                     21   \n",
       "\n",
       "   Winter_2018\\r\\nPer_lost  Spring_2018\\nPer_lost_y  \n",
       "0                       11                        7  \n",
       "1                       23                       12  \n",
       "2                       34                        8  \n",
       "3                       14                        9  \n",
       "4                       23                       15  "
      ]
     },
     "execution_count": 22,
     "metadata": {},
     "output_type": "execute_result"
    }
   ],
   "source": [
    "Bees = pd.read_csv('../Final Project.Sarah/Final_Colony_Losses.csv')\n",
    "Bees.head()\n"
   ]
  },
  {
   "cell_type": "code",
   "execution_count": 17,
   "metadata": {},
   "outputs": [
    {
     "data": {
      "text/plain": [
       "Index(['Unnamed: 0', 'State', 'Winter_2015\\r\\r\\nPer_lost',\n",
       "       'Spring_2015\\r\\r\\nPer_lost', 'Summer_2015\\r\\r\\nPer_lost',\n",
       "       'Fall_2015\\r\\r\\nPer_lost', 'Winter_2016\\r\\nPer_lost',\n",
       "       'Spring_2016\\r\\nPer_lost', 'Summer_2016\\r\\nPer_lost',\n",
       "       'Fall_2016\\r\\nPer_lost', 'Winter_2017\\r\\nPer_lost',\n",
       "       'Spring_2017\\r\\nPer_lost_x', 'Summer_2017\\r\\nPer_lost',\n",
       "       'Fall_2017\\r\\nPer_lost', 'Winter_2018\\r\\nPer_lost',\n",
       "       'Spring_2017\\r\\nPer_lost_y'],\n",
       "      dtype='object')"
      ]
     },
     "execution_count": 17,
     "metadata": {},
     "output_type": "execute_result"
    }
   ],
   "source": [
    "Bees.columns\n"
   ]
  },
  {
   "cell_type": "code",
   "execution_count": 18,
   "metadata": {},
   "outputs": [
    {
     "name": "stdout",
     "output_type": "stream",
     "text": [
      "Shape:  (45, 1) (45, 1)\n"
     ]
    }
   ],
   "source": [
    "# Assign the data to X and y\n",
    "# Note: Sklearn requires a two-dimensional array of values\n",
    "# so we use reshape to create this\n",
    "\n",
    "X = Bees[\"Winter_2015\\r\\r\\nPer_lost\"].values.reshape(-1, 1)\n",
    "y = Bees[\"Spring_2015\\r\\r\\nPer_lost\"].values.reshape(-1, 1)\n",
    "\n",
    "print(\"Shape: \", X.shape, y.shape)"
   ]
  },
  {
   "cell_type": "code",
   "execution_count": 23,
   "metadata": {},
   "outputs": [
    {
     "data": {
      "text/plain": [
       "Text(0, 0.5, 'Spring 2015 loses')"
      ]
     },
     "execution_count": 23,
     "metadata": {},
     "output_type": "execute_result"
    },
    {
     "data": {
      "image/png": "[encoded data removed]",
      "text/plain": [
       "<Figure size 432x288 with 1 Axes>"
      ]
     },
     "metadata": {
      "needs_background": "light"
     },
     "output_type": "display_data"
    }
   ],
   "source": [
    "# Plot the data to see if a linear trend exists\n",
    "\n",
    "### BEGIN SOLUTION\n",
    "plt.scatter(X, y)\n",
    "plt.xlabel(\"Winter 2015 loses\")\n",
    "plt.ylabel(\"Spring 2015 loses\")\n",
    "### END SOLUTION"
   ]
  },
  {
   "cell_type": "code",
   "execution_count": null,
   "metadata": {},
   "outputs": [],
   "source": []
  },
  {
   "cell_type": "code",
   "execution_count": null,
   "metadata": {},
   "outputs": [],
   "source": []
  },
  {
   "cell_type": "code",
   "execution_count": 1,
   "metadata": {},
   "outputs": [],
   "source": [
    "from sklearn.datasets import make_regression\n",
    "from sklearn.linear_model import LinearRegression\n",
    "\n",
    "# Generate some data\n",
    "X, y = make_regression(n_samples=20, n_features=1, random_state=0, noise=4, bias=100.0)\n",
    "\n",
    "# Create a linear model\n",
    "model = LinearRegression()\n",
    "\n",
    "# Fit (Train) our model to the data\n",
    "model.fit(X, y)"
   ]
  },
  {
   "cell_type": "code",
   "execution_count": null,
   "metadata": {},
   "outputs": [],
   "source": [
    "SN_Bee2017_Jan_March_to_load = \"Jan-March2017.csv\"\n",
    "\n",
    "# Read data File and store into Pandas Data Frames\n",
    "Jan_March2017= pd.read_csv(SN_Bee2017_Jan_March_to_load)\n",
    "\n",
    "# Combine the data into a single dataset\n",
    "#school_data_complete = pd.merge(student_data, school_data, how=\"left\", on=[\"school_name\", \"school_name\"])\n",
    "Jan_March2017.head()\n"
   ]
  }
 ],
 "metadata": {
  "kernelspec": {
   "display_name": "Python 3",
   "language": "python",
   "name": "python3"
  },
  "language_info": {
   "codemirror_mode": {
    "name": "ipython",
    "version": 3
   },
   "file_extension": ".py",
   "mimetype": "text/x-python",
   "name": "python",
   "nbconvert_exporter": "python",
   "pygments_lexer": "ipython3",
   "version": "3.7.2"
  }
 },
 "nbformat": 4,
 "nbformat_minor": 2
}
