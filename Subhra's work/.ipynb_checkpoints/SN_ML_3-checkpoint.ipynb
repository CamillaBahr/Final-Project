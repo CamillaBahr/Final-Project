{
 "cells": [
  {
   "cell_type": "code",
   "execution_count": 13,
   "metadata": {},
   "outputs": [],
   "source": [
    "import matplotlib.pyplot as plt\n",
    "from sklearn.neighbors import KNeighborsClassifier\n",
    "import pandas as pd\n",
    "import numpy as np\n",
    "import os\n",
    "import warnings\n",
    "warnings.simplefilter('ignore')\n"
   ]
  },
  {
   "cell_type": "code",
   "execution_count": 19,
   "metadata": {},
   "outputs": [
    {
     "data": {
      "text/html": [
       "<div>\n",
       "<style scoped>\n",
       "    .dataframe tbody tr th:only-of-type {\n",
       "        vertical-align: middle;\n",
       "    }\n",
       "\n",
       "    .dataframe tbody tr th {\n",
       "        vertical-align: top;\n",
       "    }\n",
       "\n",
       "    .dataframe thead th {\n",
       "        text-align: right;\n",
       "    }\n",
       "</style>\n",
       "<table border=\"1\" class=\"dataframe\">\n",
       "  <thead>\n",
       "    <tr style=\"text-align: right;\">\n",
       "      <th></th>\n",
       "      <th>State</th>\n",
       "      <th>2015_Mites</th>\n",
       "      <th>2016_mites</th>\n",
       "      <th>2017_Mites</th>\n",
       "      <th>2018_Mites</th>\n",
       "      <th>Mites_average</th>\n",
       "      <th>2015_Parasites</th>\n",
       "      <th>2016_Parasites</th>\n",
       "      <th>2017_Parasites</th>\n",
       "      <th>2018_parasites</th>\n",
       "      <th>...</th>\n",
       "      <th>2015_Other</th>\n",
       "      <th>2016_other</th>\n",
       "      <th>2017_Other</th>\n",
       "      <th>2018_Other</th>\n",
       "      <th>Other_average</th>\n",
       "      <th>2015_Unknown</th>\n",
       "      <th>2016_Unknown</th>\n",
       "      <th>2017_Unknown</th>\n",
       "      <th>2018_Unknown</th>\n",
       "      <th>Unknown_average</th>\n",
       "    </tr>\n",
       "  </thead>\n",
       "  <tbody>\n",
       "    <tr>\n",
       "      <th>0</th>\n",
       "      <td>Alabama</td>\n",
       "      <td>23.225</td>\n",
       "      <td>14.450</td>\n",
       "      <td>32.400</td>\n",
       "      <td>26.40</td>\n",
       "      <td>24.11875</td>\n",
       "      <td>31.225</td>\n",
       "      <td>20.525</td>\n",
       "      <td>13.900</td>\n",
       "      <td>27.85</td>\n",
       "      <td>...</td>\n",
       "      <td>4.325</td>\n",
       "      <td>4.275</td>\n",
       "      <td>6.325</td>\n",
       "      <td>10.05</td>\n",
       "      <td>6.24375</td>\n",
       "      <td>8.275</td>\n",
       "      <td>8.450</td>\n",
       "      <td>5.925</td>\n",
       "      <td>3.30</td>\n",
       "      <td>6.48750</td>\n",
       "    </tr>\n",
       "    <tr>\n",
       "      <th>1</th>\n",
       "      <td>Arizona</td>\n",
       "      <td>34.725</td>\n",
       "      <td>50.275</td>\n",
       "      <td>43.850</td>\n",
       "      <td>42.55</td>\n",
       "      <td>42.85000</td>\n",
       "      <td>19.775</td>\n",
       "      <td>16.700</td>\n",
       "      <td>5.625</td>\n",
       "      <td>5.80</td>\n",
       "      <td>...</td>\n",
       "      <td>9.525</td>\n",
       "      <td>10.400</td>\n",
       "      <td>10.850</td>\n",
       "      <td>11.20</td>\n",
       "      <td>10.49375</td>\n",
       "      <td>6.000</td>\n",
       "      <td>5.700</td>\n",
       "      <td>2.300</td>\n",
       "      <td>3.95</td>\n",
       "      <td>4.48750</td>\n",
       "    </tr>\n",
       "    <tr>\n",
       "      <th>2</th>\n",
       "      <td>Arkansas</td>\n",
       "      <td>47.700</td>\n",
       "      <td>61.025</td>\n",
       "      <td>37.450</td>\n",
       "      <td>28.30</td>\n",
       "      <td>43.61875</td>\n",
       "      <td>29.225</td>\n",
       "      <td>7.300</td>\n",
       "      <td>15.625</td>\n",
       "      <td>12.80</td>\n",
       "      <td>...</td>\n",
       "      <td>9.675</td>\n",
       "      <td>2.275</td>\n",
       "      <td>9.775</td>\n",
       "      <td>8.00</td>\n",
       "      <td>7.43125</td>\n",
       "      <td>3.075</td>\n",
       "      <td>3.325</td>\n",
       "      <td>1.550</td>\n",
       "      <td>15.25</td>\n",
       "      <td>5.80000</td>\n",
       "    </tr>\n",
       "    <tr>\n",
       "      <th>3</th>\n",
       "      <td>California</td>\n",
       "      <td>38.200</td>\n",
       "      <td>42.975</td>\n",
       "      <td>41.475</td>\n",
       "      <td>41.65</td>\n",
       "      <td>41.07500</td>\n",
       "      <td>15.450</td>\n",
       "      <td>15.200</td>\n",
       "      <td>12.550</td>\n",
       "      <td>10.75</td>\n",
       "      <td>...</td>\n",
       "      <td>11.550</td>\n",
       "      <td>10.925</td>\n",
       "      <td>9.650</td>\n",
       "      <td>8.55</td>\n",
       "      <td>10.16875</td>\n",
       "      <td>4.475</td>\n",
       "      <td>4.350</td>\n",
       "      <td>4.900</td>\n",
       "      <td>5.00</td>\n",
       "      <td>4.68125</td>\n",
       "    </tr>\n",
       "    <tr>\n",
       "      <th>4</th>\n",
       "      <td>Colorado</td>\n",
       "      <td>37.825</td>\n",
       "      <td>30.825</td>\n",
       "      <td>32.850</td>\n",
       "      <td>37.25</td>\n",
       "      <td>34.68750</td>\n",
       "      <td>7.150</td>\n",
       "      <td>7.150</td>\n",
       "      <td>0.725</td>\n",
       "      <td>0.40</td>\n",
       "      <td>...</td>\n",
       "      <td>4.525</td>\n",
       "      <td>7.225</td>\n",
       "      <td>7.625</td>\n",
       "      <td>9.00</td>\n",
       "      <td>7.09375</td>\n",
       "      <td>4.250</td>\n",
       "      <td>0.175</td>\n",
       "      <td>1.800</td>\n",
       "      <td>1.40</td>\n",
       "      <td>1.90625</td>\n",
       "    </tr>\n",
       "  </tbody>\n",
       "</table>\n",
       "<p>5 rows × 31 columns</p>\n",
       "</div>"
      ],
      "text/plain": [
       "        State  2015_Mites  2016_mites  2017_Mites  2018_Mites  Mites_average  \\\n",
       "0     Alabama      23.225      14.450      32.400       26.40       24.11875   \n",
       "1     Arizona      34.725      50.275      43.850       42.55       42.85000   \n",
       "2    Arkansas      47.700      61.025      37.450       28.30       43.61875   \n",
       "3  California      38.200      42.975      41.475       41.65       41.07500   \n",
       "4    Colorado      37.825      30.825      32.850       37.25       34.68750   \n",
       "\n",
       "   2015_Parasites  2016_Parasites  2017_Parasites  2018_parasites  \\\n",
       "0          31.225          20.525          13.900           27.85   \n",
       "1          19.775          16.700           5.625            5.80   \n",
       "2          29.225           7.300          15.625           12.80   \n",
       "3          15.450          15.200          12.550           10.75   \n",
       "4           7.150           7.150           0.725            0.40   \n",
       "\n",
       "        ...         2015_Other  2016_other  2017_Other  2018_Other  \\\n",
       "0       ...              4.325       4.275       6.325       10.05   \n",
       "1       ...              9.525      10.400      10.850       11.20   \n",
       "2       ...              9.675       2.275       9.775        8.00   \n",
       "3       ...             11.550      10.925       9.650        8.55   \n",
       "4       ...              4.525       7.225       7.625        9.00   \n",
       "\n",
       "   Other_average  2015_Unknown  2016_Unknown  2017_Unknown  2018_Unknown  \\\n",
       "0        6.24375         8.275         8.450         5.925          3.30   \n",
       "1       10.49375         6.000         5.700         2.300          3.95   \n",
       "2        7.43125         3.075         3.325         1.550         15.25   \n",
       "3       10.16875         4.475         4.350         4.900          5.00   \n",
       "4        7.09375         4.250         0.175         1.800          1.40   \n",
       "\n",
       "   Unknown_average  \n",
       "0          6.48750  \n",
       "1          4.48750  \n",
       "2          5.80000  \n",
       "3          4.68125  \n",
       "4          1.90625  \n",
       "\n",
       "[5 rows x 31 columns]"
      ]
     },
     "execution_count": 19,
     "metadata": {},
     "output_type": "execute_result"
    }
   ],
   "source": [
    "Stressor_df= pd.read_csv(\"../Cammi's work/Stressors Data/Final Health Stress Data - All Years.csv\")\n",
    "#Bee_colony_df= USA_All_Bee_colony_df.drop(USA_All_Bee_colony_df.columns[[0,1]], axis=1) \n",
    "Stressor_df.head()"
   ]
  },
  {
   "cell_type": "code",
   "execution_count": 20,
   "metadata": {},
   "outputs": [
    {
     "data": {
      "text/plain": [
       "Index(['State', '2015_Mites', '2016_mites', '2017_Mites', '2018_Mites',\n",
       "       'Mites_average', '2015_Parasites', '2016_Parasites', '2017_Parasites',\n",
       "       '2018_parasites', 'Parasites_average', '2015_Diseases', '2016_Diseases',\n",
       "       '2017_Diseases', '2018_Diseases', 'Diseases_average', '2015_Pesticides',\n",
       "       '2016_Pesticides', '2017_Pesticides', '2018_Pesticides',\n",
       "       'Pesticides_average', '2015_Other', '2016_other', '2017_Other',\n",
       "       '2018_Other', 'Other_average', '2015_Unknown', '2016_Unknown',\n",
       "       '2017_Unknown', '2018_Unknown', 'Unknown_average'],\n",
       "      dtype='object')"
      ]
     },
     "execution_count": 20,
     "metadata": {},
     "output_type": "execute_result"
    }
   ],
   "source": [
    "Stressor_df.columns"
   ]
  },
  {
   "cell_type": "markdown",
   "metadata": {},
   "source": [
    "#                         2018 Mites prediction"
   ]
  },
  {
   "cell_type": "code",
   "execution_count": 21,
   "metadata": {},
   "outputs": [
    {
     "name": "stdout",
     "output_type": "stream",
     "text": [
      "(46, 3) (46, 1)\n"
     ]
    }
   ],
   "source": [
    "# Assign X (data) and y (target)\n",
    "\n",
    "X = Stressor_df[['2015_Mites', '2016_mites', '2017_Mites']]\n",
    "y = Stressor_df['2018_Mites'].values.reshape(-1, 1)\n",
    "print(X.shape, y.shape)\n"
   ]
  },
  {
   "cell_type": "code",
   "execution_count": 24,
   "metadata": {},
   "outputs": [],
   "source": [
    "# Split the data into training and testing\n",
    "\n",
    "from sklearn.model_selection import train_test_split\n",
    "\n",
    "X_train, X_test, y_train, y_test = train_test_split(X, y, random_state=42)\n"
   ]
  },
  {
   "cell_type": "code",
   "execution_count": 25,
   "metadata": {},
   "outputs": [],
   "source": [
    "from sklearn.preprocessing import StandardScaler\n",
    "\n",
    "# Create a StandardScaler model and fit it to the training data\n",
    "\n",
    "X_scaler = StandardScaler().fit(X_train)\n",
    "y_scaler = StandardScaler().fit(y_train)"
   ]
  },
  {
   "cell_type": "code",
   "execution_count": 26,
   "metadata": {},
   "outputs": [],
   "source": [
    "# Transform the training and testing data using the X_scaler and y_scaler models\n",
    "\n",
    "X_train_scaled = X_scaler.transform(X_train)\n",
    "X_test_scaled = X_scaler.transform(X_test)\n",
    "y_train_scaled = y_scaler.transform(y_train)\n",
    "y_test_scaled = y_scaler.transform(y_test)\n"
   ]
  },
  {
   "cell_type": "code",
   "execution_count": 27,
   "metadata": {},
   "outputs": [
    {
     "data": {
      "text/plain": [
       "LinearRegression(copy_X=True, fit_intercept=True, n_jobs=None,\n",
       "         normalize=False)"
      ]
     },
     "execution_count": 27,
     "metadata": {},
     "output_type": "execute_result"
    }
   ],
   "source": [
    "# Create a LinearRegression model and fit it to the scaled training data\n",
    "\n",
    "from sklearn.linear_model import LinearRegression\n",
    "model = LinearRegression()\n",
    "model.fit(X_train_scaled, y_train_scaled)\n"
   ]
  },
  {
   "cell_type": "code",
   "execution_count": 28,
   "metadata": {},
   "outputs": [
    {
     "data": {
      "image/png": "[encoded data removed]",
      "text/plain": [
       "<Figure size 432x288 with 1 Axes>"
      ]
     },
     "metadata": {
      "needs_background": "light"
     },
     "output_type": "display_data"
    }
   ],
   "source": [
    "# Make predictions using the X_test_scaled data\n",
    "# Plot y_test_scaled vs y_test_scaled\n",
    "# Scatter plot y_test_scaled vs predictions\n",
    "\n",
    "predictions = model.predict(X_test_scaled)\n",
    "model.fit(X_train_scaled, y_train_scaled)\n",
    "plt.scatter(model.predict(X_train_scaled), model.predict(X_train_scaled) - y_train_scaled, c=\"blue\", label=\"Training Data\")\n",
    "plt.scatter(model.predict(X_test_scaled), model.predict(X_test_scaled) - y_test_scaled, c=\"orange\", label=\"Testing Data\")\n",
    "plt.legend()\n",
    "plt.hlines(y=0, xmin=y_test_scaled.min(), xmax=y_test_scaled.max())\n",
    "plt.title(\"2018 mites Plot\")\n",
    "plt.show()\n"
   ]
  },
  {
   "cell_type": "code",
   "execution_count": 29,
   "metadata": {},
   "outputs": [
    {
     "name": "stdout",
     "output_type": "stream",
     "text": [
      "Mean Squared Error (MSE): 1.9557569780845394\n",
      "R-squared (R2 ): -0.1277793421253257\n"
     ]
    }
   ],
   "source": [
    "# Used X_test_scaled, y_test_scaled, and model.predict(X_test_scaled) to calculate MSE and R2\n",
    "\n",
    "from sklearn.metrics import mean_squared_error\n",
    "\n",
    "MSE = mean_squared_error(y_test_scaled, predictions)\n",
    "r2 = model.score(X_test_scaled, y_test_scaled)\n",
    "\n",
    "print(f\"Mean Squared Error (MSE): {MSE}\")\n",
    "print(f\"R-squared (R2 ): {r2}\")\n"
   ]
  },
  {
   "cell_type": "code",
   "execution_count": 30,
   "metadata": {},
   "outputs": [
    {
     "data": {
      "text/plain": [
       "-0.7437237326422754"
      ]
     },
     "execution_count": 30,
     "metadata": {},
     "output_type": "execute_result"
    }
   ],
   "source": [
    "# Call the `score` method on the model to show the r2 score\n",
    "\n",
    "model.score(X_test, y_test)\n"
   ]
  },
  {
   "cell_type": "markdown",
   "metadata": {},
   "source": [
    "#                             2018 Parasites prediction"
   ]
  },
  {
   "cell_type": "code",
   "execution_count": 32,
   "metadata": {},
   "outputs": [
    {
     "name": "stdout",
     "output_type": "stream",
     "text": [
      "(46, 3) (46, 1)\n"
     ]
    }
   ],
   "source": [
    "# Assign X (data) and y (target)\n",
    "\n",
    "X = Stressor_df[['2015_Parasites', '2016_Parasites', '2017_Parasites']]\n",
    "y = Stressor_df['2018_parasites'].values.reshape(-1, 1)\n",
    "print(X.shape, y.shape)\n"
   ]
  },
  {
   "cell_type": "code",
   "execution_count": 33,
   "metadata": {},
   "outputs": [],
   "source": [
    "# Split the data into training and testing\n",
    "\n",
    "from sklearn.model_selection import train_test_split\n",
    "\n",
    "X_train, X_test, y_train, y_test = train_test_split(X, y, random_state=42)\n"
   ]
  },
  {
   "cell_type": "code",
   "execution_count": 34,
   "metadata": {},
   "outputs": [],
   "source": [
    "from sklearn.preprocessing import StandardScaler\n",
    "\n",
    "# Create a StandardScaler model and fit it to the training data\n",
    "\n",
    "X_scaler = StandardScaler().fit(X_train)\n",
    "y_scaler = StandardScaler().fit(y_train)"
   ]
  },
  {
   "cell_type": "code",
   "execution_count": 35,
   "metadata": {},
   "outputs": [],
   "source": [
    "# Transform the training and testing data using the X_scaler and y_scaler models\n",
    "\n",
    "X_train_scaled = X_scaler.transform(X_train)\n",
    "X_test_scaled = X_scaler.transform(X_test)\n",
    "y_train_scaled = y_scaler.transform(y_train)\n",
    "y_test_scaled = y_scaler.transform(y_test)\n"
   ]
  },
  {
   "cell_type": "code",
   "execution_count": 36,
   "metadata": {},
   "outputs": [
    {
     "data": {
      "text/plain": [
       "LinearRegression(copy_X=True, fit_intercept=True, n_jobs=None,\n",
       "         normalize=False)"
      ]
     },
     "execution_count": 36,
     "metadata": {},
     "output_type": "execute_result"
    }
   ],
   "source": [
    "# Create a LinearRegression model and fit it to the scaled training data\n",
    "\n",
    "from sklearn.linear_model import LinearRegression\n",
    "model = LinearRegression()\n",
    "model.fit(X_train_scaled, y_train_scaled)\n"
   ]
  },
  {
   "cell_type": "code",
   "execution_count": 37,
   "metadata": {},
   "outputs": [
    {
     "data": {
      "image/png": "[encoded data removed]",
      "text/plain": [
       "<Figure size 432x288 with 1 Axes>"
      ]
     },
     "metadata": {
      "needs_background": "light"
     },
     "output_type": "display_data"
    }
   ],
   "source": [
    "# Make predictions using the X_test_scaled data\n",
    "# Plot y_test_scaled vs y_test_scaled\n",
    "# Scatter plot y_test_scaled vs predictions\n",
    "\n",
    "predictions = model.predict(X_test_scaled)\n",
    "model.fit(X_train_scaled, y_train_scaled)\n",
    "plt.scatter(model.predict(X_train_scaled), model.predict(X_train_scaled) - y_train_scaled, c=\"blue\", label=\"Training Data\")\n",
    "plt.scatter(model.predict(X_test_scaled), model.predict(X_test_scaled) - y_test_scaled, c=\"orange\", label=\"Testing Data\")\n",
    "plt.legend()\n",
    "plt.hlines(y=0, xmin=y_test_scaled.min(), xmax=y_test_scaled.max())\n",
    "plt.title(\"2018 mites Plot\")\n",
    "plt.show()\n"
   ]
  },
  {
   "cell_type": "code",
   "execution_count": 38,
   "metadata": {},
   "outputs": [
    {
     "name": "stdout",
     "output_type": "stream",
     "text": [
      "Mean Squared Error (MSE): 1.9472481713821745\n",
      "R-squared (R2 ): 0.5055224882896461\n"
     ]
    }
   ],
   "source": [
    "# Used X_test_scaled, y_test_scaled, and model.predict(X_test_scaled) to calculate MSE and R2\n",
    "\n",
    "from sklearn.metrics import mean_squared_error\n",
    "\n",
    "MSE = mean_squared_error(y_test_scaled, predictions)\n",
    "r2 = model.score(X_test_scaled, y_test_scaled)\n",
    "\n",
    "print(f\"Mean Squared Error (MSE): {MSE}\")\n",
    "print(f\"R-squared (R2 ): {r2}\")\n"
   ]
  },
  {
   "cell_type": "code",
   "execution_count": 39,
   "metadata": {},
   "outputs": [
    {
     "data": {
      "text/plain": [
       "0.30250924559344994"
      ]
     },
     "execution_count": 39,
     "metadata": {},
     "output_type": "execute_result"
    }
   ],
   "source": [
    "# Call the `score` method on the model to show the r2 score\n",
    "\n",
    "model.score(X_test, y_test)\n"
   ]
  },
  {
   "cell_type": "code",
   "execution_count": null,
   "metadata": {},
   "outputs": [],
   "source": []
  },
  {
   "cell_type": "code",
   "execution_count": null,
   "metadata": {},
   "outputs": [],
   "source": []
  }
 ],
 "metadata": {
  "kernelspec": {
   "display_name": "Python 3",
   "language": "python",
   "name": "python3"
  },
  "language_info": {
   "codemirror_mode": {
    "name": "ipython",
    "version": 3
   },
   "file_extension": ".py",
   "mimetype": "text/x-python",
   "name": "python",
   "nbconvert_exporter": "python",
   "pygments_lexer": "ipython3",
   "version": "3.7.2"
  }
 },
 "nbformat": 4,
 "nbformat_minor": 2
}
